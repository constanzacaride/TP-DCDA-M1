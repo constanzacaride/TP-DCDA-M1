{
   "cell_type": "markdown",
   "metadata": {},
   "source": [
    "<a href=\"https://github.com/constanzacaride/TP-DCDA-M1/blob/main/TP-Mod1_DCDA.ipynb\" target=\"_parent\"><img src=\"https://colab.research.google.com/assets/colab-badge.svg\" alt=\"Open In Colab\"/></a>"
   ]
  }
